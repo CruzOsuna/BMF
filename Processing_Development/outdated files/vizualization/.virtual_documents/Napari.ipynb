





#Downloading Napari for the first time
conda create -y -n napari-env -c conda-forge python=3.9
conda activate napari-env
conda install -c conda-forge napari

#****Napari can also be installed with pip using
# python -m install "napari[all]"





## Dependencies needed
try:
    import napari
    import pandas
    from napari.layers import Shapes
    from napari.utils.notifications import show_info
except:
    pass
import pandas as pd
import numpy as np
import random
import tifffile as tiff
import scimap as sm 
from tifffile import imread
import dask.array as da
from dask.cache import Cache
import zarr
import os
import matplotlib.patches as mpatches
import scipy.spatial.distance as sdistance
import ast
from matplotlib.backends.backend_qt5agg import FigureCanvas
from matplotlib.figure import Figure
from pathlib import Path
from magicgui import event_loop, magicgui
from PyQt5.QtWidgets import QMessageBox
import sys
from PyQt5.QtWidgets import QApplication, QPushButton
from PyQt5.QtCore import Slot
import enum
from dask_image.imread import imread as daskread
from napari.utils.notifications import show_info
#from joblib import Parallel, delayed


# This code will open the Napari viewer with the necessary widgets to open and perform operations on the image
viewer = napari.Viewer()

# Widgets
# Open the image in the viewer
@magicgui(call_button='Open image', layout='vertical')
def open_large_image(image_path=Path(), contrast_limit_txt=Path(), ab_list_path=Path()):
    ab = pd.read_csv(ab_list_path)
    ab = list(ab["ABS"])
    cl_txt = str(contrast_limit_txt)

    if cl_txt == '.':
        image = tiff.TiffFile(image_path, is_ome=False)
        z = zarr.open(image.aszarr(), mode='r')
        # Identify the number of levels in the pyramid
        n_levels = len(image.series[0].levels)

        # Check if there are pyramids available
        if n_levels > 1:
            pyramid = [da.from_zarr(z[i]) for i in range(n_levels)]
            multiscale = True
        else:
            pyramid = da.from_zarr(z)
            multiscale = False

        viewer.add_image(
            pyramid, multiscale=multiscale, channel_axis=0, name=ab, visible=False)

    else:
        with open(cl_txt, 'r') as cl:
            c = cl.read()
        contrast_limit = ast.literal_eval(c)

        image = tiff.TiffFile(image_path, is_ome=False)
        z = zarr.open(image.aszarr(), mode='r')
        n_levels = len(image.series[0].levels)

        if n_levels > 1:
            pyramid = [da.from_zarr(z[i]) for i in range(n_levels)]
            multiscale = True
        else:
            pyramid = da.from_zarr(z)
            multiscale = False

        viewer.add_image(
            pyramid, multiscale=multiscale, channel_axis=0, name=ab, visible=False, contrast_limits=contrast_limit)

# Open the segmentation mask in the viewer
@magicgui(call_button='Open mask', layout='vertical')
def open_mask(mask_path=Path()):
    seg_m = tiff.imread(mask_path)
    if (len(seg_m.shape) > 2) and (seg_m.shape[0] > 1):
        seg_m = seg_m[0]
    viewer.add_labels(seg_m, name='MASK')

# Load previously created shapes into the viewer
@magicgui(call_button='Load Shapes', layout='vertical', shapes_path={"mode": "d"})
def load_shapes(shapes_path: Path):
    shapes_path = str(shapes_path) + "/"
    shapes_list = os.listdir(shapes_path)
    names = []
    for filename in shapes_list:
        name = filename.replace(".txt", "")
        names.append(name)
        with open(shapes_path + filename, 'r') as f:
            shapes_str = f.read()
        shapes_str = shapes_str.replace('\n', '').replace('      ', '').replace('array(', '').replace(')', '')
        shapes = ast.literal_eval(shapes_str)
        shape_arrays = [np.array(s) for s in shapes]
        viewer.add_shapes(shape_arrays, shape_type='polygon', edge_width=0,
                          edge_color='#777777ff', face_color='white', name=name)

# Save the contrast limits applied to the image
@magicgui(call_button='Save contrast limits', layout='vertical', output_file={"mode": "d"})
def save_contrast_limits(output_file: Path, ab_list_path=Path(), name=""):
    contrast_limit = []
    ab = pd.read_csv(ab_list_path)
    ab = list(ab["ABS"])
    for antibody in ab:
        contrast_limit.append(viewer.layers[antibody].contrast_limits)

    with open(str(output_file) + "/" + name + ".txt", "w") as output:
        output.write(str(contrast_limit))

# Save a shape drawn on the image (coordinate array as a .txt file)
@magicgui(call_button='Save shape array', layout='vertical', output_file={"mode": "d"})
def save_shapes(output_file: Path, shape_name=""):
    shapes = viewer.layers[shape_name].data
    with open(str(output_file) + "/" + shape_name + ".txt", 'w') as output:
        output.write(str(shapes))

# Get a CSV file of the cell IDs in a selected shape
@magicgui(call_button='Cut and Save ROIs', filepath={"mode": "d"})
def cut_mask(filepath: Path, shape_name=""):
    if 'MASK' not in viewer.layers:
        show_info('No mask layer named "MASK" was found.')
        return
    if shape_name not in viewer.layers:
        show_info(f'No shape layer named "{shape_name}" was found.')
        return

    mask_to_cut = viewer.layers['MASK'].data
    shape = mask_to_cut.shape
    selected_area = viewer.layers[shape_name].to_labels(labels_shape=shape)
    removable_cells = []
    for i in range(mask_to_cut.shape[0]):
        for j in range(mask_to_cut.shape[1]):
            cell = mask_to_cut[i, j]
            if selected_area[i, j] > 0 and cell not in removable_cells and cell > 0:
                removable_cells.append(cell)
    df = pd.DataFrame({'cellid': removable_cells})
    df = df.astype(int)
    df.to_csv(str(filepath) + '/' + shape_name + '_selected_cell_ids.csv', index=False)

# Close all layers loaded in the viewer
@magicgui(call_button='Close all', layout='vertical')
def close_all():
    viewer.layers.clear()

#Viewing any metadata annotation by mapping points in cells
@magicgui(call_button = 'View metadata', layout='vertical')
def view_metadata(adata_path=Path(),image_name = "", metadata_column = ""):
    path = str(adata_path)
    adata = sm.pp.mcmicro_to_scimap(path,remove_dna=False, remove_string_from_name=None, log=False,
                                random_sample=None, CellId='CellID', split='X_centroid',
                                custom_imageid=None, min_cells=None, output_dir=None)
    adata = adata[adata.obs['imageid'] == image_name]
    available_phenotypes = list(adata.obs[metadata_column].unique())
    for i in available_phenotypes:
        coordinates = adata[adata.obs[metadata_column] == i]
        coordinates = pd.DataFrame({'y': coordinates.obs["Y_centroid"] ,'x': coordinates.obs["X_centroid"]})
        # points = coordinates.values.tolist()
        points = coordinates.values
        r = lambda: random.randint(0, 255)  # random color generator
        point_color = '#%02X%02X%02X' % (r(), r(), r())  # random color generator

        # check if point_color is a dict and if so isolate the color to the specific categoty
        phenotype_layer = viewer.add_points(points,size=10,face_color=point_color,visible=False,name=i)

# Counting selected cells and extract their information to a .csv file
@magicgui(call_button='Count selected cells', layout='vertical')
def count_selected_cells(shape_name: str = "", cell_info_csv: Path = Path()):
    # Check if the mask and shape exist in the viewer
    if 'MASK' not in viewer.layers:
        show_info('No mask layer named "MASK" was found.')
        return
    if shape_name not in viewer.layers:
        show_info(f'No shape layer named "{shape_name}" was found.')
        return

    # Retrieve the cell mask and the selected shape
    mask_layer = viewer.layers['MASK']
    mask_data = mask_layer.data
    shape_layer = viewer.layers[shape_name]
    shape_data = shape_layer.to_labels(labels_shape=mask_data.shape)

    # Find the cells that overlap with the selected shape
    overlapping_cells = mask_data[shape_data > 0]
    unique_cells = np.unique(overlapping_cells)
    # Exclude the background (cell ID 0)
    unique_cells = unique_cells[unique_cells != 0]
    cell_count = len(unique_cells)

    # Display the total number of cells within the selected shape
    show_info(f'Total cells within "{shape_name}": {cell_count}')
    print(f'Total cells within "{shape_name}": {cell_count}')


# Counting selected cells and extract their information to a .csv file
@magicgui(call_button='Save cells in selected ROI', layout='vertical', output_csv={"mode": "d"})
def save_selected_cells(
    output_csv: Path,
    shape_name: str = "",
    cell_info_csv: Path = Path(),
    output_file_name: str = ""):
    # Check if the mask and shape exist in the viewer
    if 'MASK' not in viewer.layers:
        show_info('No mask layer named "MASK" was found.')
        return
    if shape_name not in viewer.layers:
        show_info(f'No shape layer named "{shape_name}" was found.')
        return

    # Retrieve the cell mask and the selected shape
    mask_layer = viewer.layers['MASK']
    mask_data = mask_layer.data
    shape_layer = viewer.layers[shape_name]
    shape_data = shape_layer.to_labels(labels_shape=mask_data.shape)

    # Find the cells that overlap with the selected shape
    overlapping_cells = mask_data[shape_data > 0]
    unique_cells = np.unique(overlapping_cells)
    # Exclude the background (cell ID 0)
    unique_cells = unique_cells[unique_cells != 0]
    cell_count = len(unique_cells)

    # Display the total number of cells within the selected shape
    show_info(f'Total cells within "{shape_name}": {cell_count}')
    return
    print(f'Total cells within "{shape_name}": {cell_count}')

    # Read the .csv file containing information on all cells
    try:
        cell_info_df = pd.read_csv(cell_info_csv)
    except Exception as e:
        show_info(f'Error reading the cell information file: {e}')
        return

    # Ensure the DataFrame contains a 'cellid' or similar column
    cell_id_column = None
    for col in ['cellid', 'CellID', 'cell_id', 'Cell_Id', 'cellID']:
        if col in cell_info_df.columns:
            cell_id_column = col
            break
    if cell_id_column is None:
        show_info('No cell ID column was found in the cell information file.')
        return

    # Filter the rows corresponding to the selected cells
    selected_cells_info = cell_info_df[cell_info_df[cell_id_column].isin(unique_cells)]

    # Save the selected cells' information to the specified .csv file
    try:
        selected_cells_info.to_csv(str(output_csv) + "/" + output_file_name + ".csv", index=False)
        show_info(f'Information on {cell_count} selected cells saved in {output_csv}')
    except Exception as e:
        show_info(f'Error saving the selected cells file: {e}')

#Creating a Voronoi plot from a designated shape
@magicgui(call_button='Voronoi plot', layout='vertical', output_dir={"mode": "d"})
def voronoi_plot(output_dir: Path , adata_path=Path(), shape_name = "", image_name = "", cluster_name =  "", file_name = ""):
    path = str(adata_path)
    adata = sm.pp.mcmicro_to_scimap(path,remove_dna=False, remove_string_from_name=None, log=False,
                                    random_sample=None, CellId='CellID', split='X_centroid',
                                    custom_imageid=None, min_cells=None, output_dir=None)
    shapes = viewer.layers[shape_name].data
    shapes = shapes[0].tolist()
    x= shapes[0]
    y= shapes[2]
    x_1= x[1]
    x_2= y[1]
    y_1= x[0]
    y_2= y[0]
    n_colors = {0: "#D3D3D3" , 1: '#D3D3D3',2: "#D3D3D3", 3: "#FF0000", 4: "#D3D3D3",
                5: "#D3D3D3",6: '#D3D3D3', 7: "#FFD343", 8: "#D3D3D3", 9: "#D3D3D3"}
    sm.pl.voronoi(adata, color_by=cluster_name, x_coordinate='X_centroid', y_coordinate='Y_centroid', imageid='imageid',
                  subset = image_name, x_lim = [x_1,x_2], y_lim =[y_1,y_2], plot_legend = True, flip_y = True, 
                  overlay_points = cluster_name,voronoi_alpha = 0.7, voronoi_line_width = 0.3, overlay_point_size = 8, 
                  overlay_point_alpha = 1, legend_size = 15, overlay_points_colors = n_colors, colors = n_colors, 
                  fileName = file_name + ".pdf", saveDir = str(output_dir) + "/")

# Add the widgets to the viewer
viewer.window.add_dock_widget(open_large_image)
#viewer.window.add_dock_widget(open_mask)
#viewer.window.add_dock_widget(load_shapes)
# viewer.window.add_dock_widget(save_contrast_limits)
#viewer.window.add_dock_widget(save_shapes)
#viewer.window.add_dock_widget(cut_mask)
#viewer.window.add_dock_widget(count_selected_cells)
#viewer.window.add_dock_widget(save_selected_cells)
#viewer.window.add_dock_widget(view_metadata)
viewer.window.add_dock_widget(close_all)
#viewer.window.add_dock_widget(voronoi_plot)


import napari
import zarr
import dask.array as da
import tifffile as tiff
import pandas as pd
from pathlib import Path
from magicgui import magicgui

# Initialize Napari viewer
viewer = napari.Viewer()

@magicgui(call_button='Open Image', layout='vertical')
def open_image(
    image_path: Path = Path(), 
    channel_names_csv: Path = Path(),
    contrast_limits_file: Path = Path('.')
):
    """
    Open a multi-channel image in Napari with channel names
    
    Parameters:
    - image_path: Path to TIFF image
    - channel_names_csv: CSV file with 'ABS' column for channel names
    - contrast_limits_file: Optional contrast limits file
    """
    
    # Read channel names from CSV
    try:
        df_channels = pd.read_csv(channel_names_csv)
        channel_names = list(df_channels["ABS"])
    except Exception as e:
        print(f"Error reading channel names: {e}")
        channel_names = []
    
    # Open TIFF file
    try:
        tiff_file = tiff.TiffFile(image_path)
        zarr_store = zarr.open(tiff_file.aszarr(), mode='r')
        
        # Handle pyramid images
        n_levels = len(tiff_file.series[0].levels)
        if n_levels > 1:
            pyramid = [da.from_zarr(zarr_store[i]) for i in range(n_levels)]
            multiscale = True
            n_channels = pyramid[0].shape[0]
        else:
            pyramid = da.from_zarr(zarr_store)
            multiscale = False
            n_channels = pyramid.shape[0]
            
    except Exception as e:
        print(f"Error opening image: {e}")
        return
    
    # Generate default names if channel count mismatch
    if len(channel_names) != n_channels:
        print(f"Channel count mismatch. Generating default names for {n_channels} channels")
        channel_names = [f"Channel_{i:03d}" for i in range(n_channels)]
    
    # Load contrast limits if provided
    contrast_limits = None
    if str(contrast_limits_file) != '.':
        try:
            with open(contrast_limits_file, 'r') as f:
                contrast_limits = eval(f.read())
        except Exception as e:
            print(f"Error loading contrast limits: {e}")
    
    # Add to viewer
    viewer.add_image(
        pyramid if multiscale else [pyramid],
        channel_axis=0,
        name=channel_names,
        contrast_limits=contrast_limits,
        multiscale=multiscale,
        visible=False
    )
    
    print(f"Successfully loaded {n_channels}-channel image with {n_levels} pyramid levels")

# Add widget to viewer
viewer.window.add_dock_widget(open_image)

# Start Napari
if __name__ == "__main__":
    napari.run()


import napari
import zarr
import dask.array as da
import tifffile as tiff
import pandas as pd
from pathlib import Path
from magicgui import magicgui

# Initialize Napari viewer
viewer = napari.Viewer()

@magicgui(call_button='Open Image', layout='vertical')
def open_image(
    image_path: Path = Path(), 
    channel_names_csv: Path = Path(),
    contrast_limits_file: Path = Path('.')
):
    """Open a multi-channel image with channel names and optional contrast limits"""
    try:
        # Read channel names
        df_channels = pd.read_csv(channel_names_csv)
        channel_names = list(df_channels["ABS"])
    except Exception as e:
        print(f"Error reading channel names: {e}")
        channel_names = []
    
    try:
        # Open image file
        tiff_file = tiff.TiffFile(image_path)
        zarr_store = zarr.open(tiff_file.aszarr(), mode='r')
        
        # Handle pyramid images
        n_levels = len(tiff_file.series[0].levels)
        if n_levels > 1:
            pyramid = [da.from_zarr(zarr_store[i]) for i in range(n_levels)]
            multiscale = True
            n_channels = pyramid[0].shape[0]
        else:
            pyramid = da.from_zarr(zarr_store)
            multiscale = False
            n_channels = pyramid.shape[0]
            
    except Exception as e:
        print(f"Error opening image: {e}")
        return
    
    # Generate default names if needed
    if len(channel_names) != n_channels:
        print(f"Generating default names for {n_channels} channels")
        channel_names = [f"Channel_{i:03d}" for i in range(n_channels)]
    
    # Load contrast limits if provided
    contrast_limits = None
    if str(contrast_limits_file) != '.':
        try:
            with open(contrast_limits_file, 'r') as f:
                contrast_limits = eval(f.read())
        except Exception as e:
            print(f"Error loading contrast limits: {e}")
    
    # Add to viewer
    viewer.add_image(
        pyramid if multiscale else [pyramid],
        channel_axis=0,
        name=channel_names,
        contrast_limits=contrast_limits,
        multiscale=multiscale,
        visible=False
    )

@magicgui(call_button='Open Mask', layout='vertical')
def open_mask(mask_path: Path = Path()):
    """Open a segmentation mask as labels layer"""
    try:
        mask = tiff.imread(mask_path)
        
        # Handle 3D masks (Z, Y, X) by taking first slice
        if len(mask.shape) > 2 and mask.shape[0] > 1:
            mask = mask[0]
            
        viewer.add_labels(
            mask,
            name='MASK',
            opacity=0.6,
            blending='translucent'
        )
        print(f"Loaded mask with shape {mask.shape}")
        
    except Exception as e:
        print(f"Error loading mask: {e}")

# Add widgets to viewer
viewer.window.add_dock_widget(open_image)
viewer.window.add_dock_widget(open_mask)

# Start Napari
if __name__ == "__main__":
    napari.run()
